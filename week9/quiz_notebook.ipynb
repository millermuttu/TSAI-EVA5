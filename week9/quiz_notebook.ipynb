{
  "nbformat": 4,
  "nbformat_minor": 0,
  "metadata": {
    "colab": {
      "name": "quiz_notebook.ipynb",
      "provenance": [],
      "collapsed_sections": []
    },
    "kernelspec": {
      "name": "python3",
      "display_name": "Python 3"
    },
    "accelerator": "GPU",
    "widgets": {
      "application/vnd.jupyter.widget-state+json": {
        "35c107866cc740de89ab7f12f795c0f9": {
          "model_module": "@jupyter-widgets/controls",
          "model_name": "HBoxModel",
          "state": {
            "_view_name": "HBoxView",
            "_dom_classes": [],
            "_model_name": "HBoxModel",
            "_view_module": "@jupyter-widgets/controls",
            "_model_module_version": "1.5.0",
            "_view_count": null,
            "_view_module_version": "1.5.0",
            "box_style": "",
            "layout": "IPY_MODEL_bf356a8607ec4e819b073215f23eea06",
            "_model_module": "@jupyter-widgets/controls",
            "children": [
              "IPY_MODEL_1a841904ee7545f3b4cfb8075d672331",
              "IPY_MODEL_4687414eeebb4c1c88eea77c1c113c01"
            ]
          }
        },
        "bf356a8607ec4e819b073215f23eea06": {
          "model_module": "@jupyter-widgets/base",
          "model_name": "LayoutModel",
          "state": {
            "_view_name": "LayoutView",
            "grid_template_rows": null,
            "right": null,
            "justify_content": null,
            "_view_module": "@jupyter-widgets/base",
            "overflow": null,
            "_model_module_version": "1.2.0",
            "_view_count": null,
            "flex_flow": null,
            "width": null,
            "min_width": null,
            "border": null,
            "align_items": null,
            "bottom": null,
            "_model_module": "@jupyter-widgets/base",
            "top": null,
            "grid_column": null,
            "overflow_y": null,
            "overflow_x": null,
            "grid_auto_flow": null,
            "grid_area": null,
            "grid_template_columns": null,
            "flex": null,
            "_model_name": "LayoutModel",
            "justify_items": null,
            "grid_row": null,
            "max_height": null,
            "align_content": null,
            "visibility": null,
            "align_self": null,
            "height": null,
            "min_height": null,
            "padding": null,
            "grid_auto_rows": null,
            "grid_gap": null,
            "max_width": null,
            "order": null,
            "_view_module_version": "1.2.0",
            "grid_template_areas": null,
            "object_position": null,
            "object_fit": null,
            "grid_auto_columns": null,
            "margin": null,
            "display": null,
            "left": null
          }
        },
        "1a841904ee7545f3b4cfb8075d672331": {
          "model_module": "@jupyter-widgets/controls",
          "model_name": "FloatProgressModel",
          "state": {
            "_view_name": "ProgressView",
            "style": "IPY_MODEL_0dd4fc8b07fb42ac9c24b646992509b6",
            "_dom_classes": [],
            "description": "",
            "_model_name": "FloatProgressModel",
            "bar_style": "info",
            "max": 1,
            "_view_module": "@jupyter-widgets/controls",
            "_model_module_version": "1.5.0",
            "value": 1,
            "_view_count": null,
            "_view_module_version": "1.5.0",
            "orientation": "horizontal",
            "min": 0,
            "description_tooltip": null,
            "_model_module": "@jupyter-widgets/controls",
            "layout": "IPY_MODEL_0ba6ae5aa7274562bdbea283d3ed9d42"
          }
        },
        "4687414eeebb4c1c88eea77c1c113c01": {
          "model_module": "@jupyter-widgets/controls",
          "model_name": "HTMLModel",
          "state": {
            "_view_name": "HTMLView",
            "style": "IPY_MODEL_0f67948a41f34116bdc791f6f015d933",
            "_dom_classes": [],
            "description": "",
            "_model_name": "HTMLModel",
            "placeholder": "​",
            "_view_module": "@jupyter-widgets/controls",
            "_model_module_version": "1.5.0",
            "value": " 170500096/? [00:30&lt;00:00, 17342485.38it/s]",
            "_view_count": null,
            "_view_module_version": "1.5.0",
            "description_tooltip": null,
            "_model_module": "@jupyter-widgets/controls",
            "layout": "IPY_MODEL_0460268c002a45d08162b1ef6fbf0f08"
          }
        },
        "0dd4fc8b07fb42ac9c24b646992509b6": {
          "model_module": "@jupyter-widgets/controls",
          "model_name": "ProgressStyleModel",
          "state": {
            "_view_name": "StyleView",
            "_model_name": "ProgressStyleModel",
            "description_width": "initial",
            "_view_module": "@jupyter-widgets/base",
            "_model_module_version": "1.5.0",
            "_view_count": null,
            "_view_module_version": "1.2.0",
            "bar_color": null,
            "_model_module": "@jupyter-widgets/controls"
          }
        },
        "0ba6ae5aa7274562bdbea283d3ed9d42": {
          "model_module": "@jupyter-widgets/base",
          "model_name": "LayoutModel",
          "state": {
            "_view_name": "LayoutView",
            "grid_template_rows": null,
            "right": null,
            "justify_content": null,
            "_view_module": "@jupyter-widgets/base",
            "overflow": null,
            "_model_module_version": "1.2.0",
            "_view_count": null,
            "flex_flow": null,
            "width": null,
            "min_width": null,
            "border": null,
            "align_items": null,
            "bottom": null,
            "_model_module": "@jupyter-widgets/base",
            "top": null,
            "grid_column": null,
            "overflow_y": null,
            "overflow_x": null,
            "grid_auto_flow": null,
            "grid_area": null,
            "grid_template_columns": null,
            "flex": null,
            "_model_name": "LayoutModel",
            "justify_items": null,
            "grid_row": null,
            "max_height": null,
            "align_content": null,
            "visibility": null,
            "align_self": null,
            "height": null,
            "min_height": null,
            "padding": null,
            "grid_auto_rows": null,
            "grid_gap": null,
            "max_width": null,
            "order": null,
            "_view_module_version": "1.2.0",
            "grid_template_areas": null,
            "object_position": null,
            "object_fit": null,
            "grid_auto_columns": null,
            "margin": null,
            "display": null,
            "left": null
          }
        },
        "0f67948a41f34116bdc791f6f015d933": {
          "model_module": "@jupyter-widgets/controls",
          "model_name": "DescriptionStyleModel",
          "state": {
            "_view_name": "StyleView",
            "_model_name": "DescriptionStyleModel",
            "description_width": "",
            "_view_module": "@jupyter-widgets/base",
            "_model_module_version": "1.5.0",
            "_view_count": null,
            "_view_module_version": "1.2.0",
            "_model_module": "@jupyter-widgets/controls"
          }
        },
        "0460268c002a45d08162b1ef6fbf0f08": {
          "model_module": "@jupyter-widgets/base",
          "model_name": "LayoutModel",
          "state": {
            "_view_name": "LayoutView",
            "grid_template_rows": null,
            "right": null,
            "justify_content": null,
            "_view_module": "@jupyter-widgets/base",
            "overflow": null,
            "_model_module_version": "1.2.0",
            "_view_count": null,
            "flex_flow": null,
            "width": null,
            "min_width": null,
            "border": null,
            "align_items": null,
            "bottom": null,
            "_model_module": "@jupyter-widgets/base",
            "top": null,
            "grid_column": null,
            "overflow_y": null,
            "overflow_x": null,
            "grid_auto_flow": null,
            "grid_area": null,
            "grid_template_columns": null,
            "flex": null,
            "_model_name": "LayoutModel",
            "justify_items": null,
            "grid_row": null,
            "max_height": null,
            "align_content": null,
            "visibility": null,
            "align_self": null,
            "height": null,
            "min_height": null,
            "padding": null,
            "grid_auto_rows": null,
            "grid_gap": null,
            "max_width": null,
            "order": null,
            "_view_module_version": "1.2.0",
            "grid_template_areas": null,
            "object_position": null,
            "object_fit": null,
            "grid_auto_columns": null,
            "margin": null,
            "display": null,
            "left": null
          }
        }
      }
    }
  },
  "cells": [
    {
      "cell_type": "code",
      "metadata": {
        "id": "kx-TpP0nAgyI",
        "outputId": "05ca3294-ac9e-4d3e-d46d-2d2cff6118ad",
        "colab": {
          "base_uri": "https://localhost:8080/",
          "height": 34
        }
      },
      "source": [
        "import datetime\n",
        "print(\"Current Date/Time: \", datetime.datetime.now())"
      ],
      "execution_count": 1,
      "outputs": [
        {
          "output_type": "stream",
          "text": [
            "Current Date/Time:  2020-09-26 15:33:35.018521\n"
          ],
          "name": "stdout"
        }
      ]
    },
    {
      "cell_type": "code",
      "metadata": {
        "id": "KcaMODyz5xwM",
        "outputId": "146489cc-ef51-40fd-a0cc-4e91e0041ccc",
        "colab": {
          "base_uri": "https://localhost:8080/",
          "height": 202
        }
      },
      "source": [
        "!git clone https://github.com/millermuttu/TSAI-EVA5.git\n",
        "!pip install -q -U albumentations\n",
        "!echo \"$(pip freeze | grep albumentations) is successfully installed\""
      ],
      "execution_count": 2,
      "outputs": [
        {
          "output_type": "stream",
          "text": [
            "Cloning into 'TSAI-EVA5'...\n",
            "remote: Enumerating objects: 174, done.\u001b[K\n",
            "remote: Counting objects: 100% (174/174), done.\u001b[K\n",
            "remote: Compressing objects: 100% (138/138), done.\u001b[K\n",
            "remote: Total 174 (delta 64), reused 100 (delta 26), pack-reused 0\u001b[K\n",
            "Receiving objects: 100% (174/174), 828.54 KiB | 1.11 MiB/s, done.\n",
            "Resolving deltas: 100% (64/64), done.\n",
            "\u001b[K     |████████████████████████████████| 122kB 2.8MB/s \n",
            "\u001b[K     |████████████████████████████████| 952kB 8.5MB/s \n",
            "\u001b[?25h  Building wheel for albumentations (setup.py) ... \u001b[?25l\u001b[?25hdone\n",
            "albumentations==0.4.6 is successfully installed\n"
          ],
          "name": "stdout"
        }
      ]
    },
    {
      "cell_type": "code",
      "metadata": {
        "id": "N1dasJZQ6UOg",
        "outputId": "9fc79d85-13fd-4687-f09a-c3560a8f1868",
        "colab": {
          "base_uri": "https://localhost:8080/",
          "height": 34
        }
      },
      "source": [
        "cd /content/TSAI-EVA5/week9/"
      ],
      "execution_count": 3,
      "outputs": [
        {
          "output_type": "stream",
          "text": [
            "/content/TSAI-EVA5/week9\n"
          ],
          "name": "stdout"
        }
      ]
    },
    {
      "cell_type": "code",
      "metadata": {
        "id": "uedZObGE6WR7"
      },
      "source": [
        "import torch\n",
        "import dataset\n",
        "import models\n",
        "import utils\n",
        "import numpy as np\n",
        "from torchvision import transforms\n",
        "from train_test import train, test"
      ],
      "execution_count": 4,
      "outputs": []
    },
    {
      "cell_type": "code",
      "metadata": {
        "id": "NDcpI8PX6YWX",
        "outputId": "2563cf49-b829-4227-b76c-27740962388e",
        "colab": {
          "base_uri": "https://localhost:8080/",
          "height": 34
        }
      },
      "source": [
        "cuda, device = utils.others.initialize_device(utils.config.SEED)"
      ],
      "execution_count": 5,
      "outputs": [
        {
          "output_type": "stream",
          "text": [
            "GPU Available? True\n"
          ],
          "name": "stdout"
        }
      ]
    },
    {
      "cell_type": "code",
      "metadata": {
        "id": "YA-lkc2B6btf",
        "outputId": "587c87a5-2466-465f-ccd1-7c0057f22707",
        "colab": {
          "base_uri": "https://localhost:8080/",
          "height": 99,
          "referenced_widgets": [
            "35c107866cc740de89ab7f12f795c0f9",
            "bf356a8607ec4e819b073215f23eea06",
            "1a841904ee7545f3b4cfb8075d672331",
            "4687414eeebb4c1c88eea77c1c113c01",
            "0dd4fc8b07fb42ac9c24b646992509b6",
            "0ba6ae5aa7274562bdbea283d3ed9d42",
            "0f67948a41f34116bdc791f6f015d933",
            "0460268c002a45d08162b1ef6fbf0f08"
          ]
        }
      },
      "source": [
        "trainset = dataset.pytorch_datasets(True, True, dataset_name='cifar10')\n",
        "testset = dataset.pytorch_datasets(False, True, dataset_name='cifar10')"
      ],
      "execution_count": 6,
      "outputs": [
        {
          "output_type": "stream",
          "text": [
            "Downloading https://www.cs.toronto.edu/~kriz/cifar-10-python.tar.gz to /content/TSAI-EVA5/week9/dataset/cifar10/cifar-10-python.tar.gz\n"
          ],
          "name": "stdout"
        },
        {
          "output_type": "display_data",
          "data": {
            "application/vnd.jupyter.widget-view+json": {
              "model_id": "35c107866cc740de89ab7f12f795c0f9",
              "version_minor": 0,
              "version_major": 2
            },
            "text/plain": [
              "HBox(children=(FloatProgress(value=1.0, bar_style='info', max=1.0), HTML(value='')))"
            ]
          },
          "metadata": {
            "tags": []
          }
        },
        {
          "output_type": "stream",
          "text": [
            "Extracting /content/TSAI-EVA5/week9/dataset/cifar10/cifar-10-python.tar.gz to /content/TSAI-EVA5/week9/dataset/cifar10\n",
            "Files already downloaded and verified\n"
          ],
          "name": "stdout"
        }
      ]
    },
    {
      "cell_type": "code",
      "metadata": {
        "id": "SfGNtytm6d9-",
        "outputId": "36d054b1-475d-41c4-fc7d-36b893beb3ee",
        "colab": {
          "base_uri": "https://localhost:8080/",
          "height": 34
        }
      },
      "source": [
        "mean, std = utils.img_reg.get_stats(trainset)[0], utils.img_reg.get_stats(trainset)[1]\n",
        "print(mean, std)"
      ],
      "execution_count": 7,
      "outputs": [
        {
          "output_type": "stream",
          "text": [
            "(0.4914, 0.4822, 0.4465) (0.247, 0.2435, 0.2616)\n"
          ],
          "name": "stdout"
        }
      ]
    },
    {
      "cell_type": "code",
      "metadata": {
        "id": "2aruWlQl6yOL"
      },
      "source": [
        "transformations_list = [transforms.Normalize(mean, std)]\n",
        "augmentations_list = [transforms.RandomRotation(7), \n",
        "                      transforms.RandomHorizontalFlip(0.3)]"
      ],
      "execution_count": 8,
      "outputs": []
    },
    {
      "cell_type": "code",
      "metadata": {
        "id": "sUMwoIk_60k7",
        "outputId": "f9f5e149-a311-48e6-8537-cd3f42ff2ae3",
        "colab": {
          "base_uri": "https://localhost:8080/",
          "height": 50
        }
      },
      "source": [
        "trainset = dataset.pytorch_datasets(True, True, transformations_list, augmentations_list, dataset_name='cifar10')\n",
        "testset = dataset.pytorch_datasets(False, True, transformations_list, dataset_name='cifar10')\n",
        "train_dl = dataset.data_loader(trainset, utils.config.BATCH_SIZE, utils.config.NUM_WORKERS, cuda, shuffle=True)\n",
        "test_dl = dataset.data_loader(testset, utils.config.BATCH_SIZE, utils.config.NUM_WORKERS, cuda, shuffle=True)"
      ],
      "execution_count": 9,
      "outputs": [
        {
          "output_type": "stream",
          "text": [
            "Files already downloaded and verified\n",
            "Files already downloaded and verified\n"
          ],
          "name": "stdout"
        }
      ]
    },
    {
      "cell_type": "code",
      "metadata": {
        "id": "oGPa-Xt47Ix2"
      },
      "source": [
        "from __future__ import print_function\n",
        "import torch\n",
        "import torch.nn as nn\n",
        "import torch.nn.functional as F\n",
        "import torch.optim as optim\n",
        "from torchvision import datasets, transforms"
      ],
      "execution_count": 10,
      "outputs": []
    },
    {
      "cell_type": "code",
      "metadata": {
        "id": "L7PIBmau8xuZ"
      },
      "source": [
        "model = models.Quiz_net().to(device)"
      ],
      "execution_count": 12,
      "outputs": []
    },
    {
      "cell_type": "code",
      "metadata": {
        "id": "Pt2kQG_r85ho",
        "outputId": "1094b3ef-52cb-49bc-98c7-ee32b985813f",
        "colab": {
          "base_uri": "https://localhost:8080/",
          "height": 874
        }
      },
      "source": [
        "!pip install torchsummary\n",
        "from torchsummary import summary\n",
        "use_cuda = torch.cuda.is_available()\n",
        "device = torch.device(\"cuda\" if use_cuda else \"cpu\")\n",
        "print(device)\n",
        "model = Quiz_net().to(device)\n",
        "summary(model, input_size=(3, 32, 32))"
      ],
      "execution_count": 13,
      "outputs": [
        {
          "output_type": "stream",
          "text": [
            "Requirement already satisfied: torchsummary in /usr/local/lib/python3.6/dist-packages (1.5.1)\n",
            "cuda\n",
            "----------------------------------------------------------------\n",
            "        Layer (type)               Output Shape         Param #\n",
            "================================================================\n",
            "            Conv2d-1           [-1, 32, 32, 32]             864\n",
            "              ReLU-2           [-1, 32, 32, 32]               0\n",
            "       BatchNorm2d-3           [-1, 32, 32, 32]              64\n",
            "           Dropout-4           [-1, 32, 32, 32]               0\n",
            "            Conv2d-5           [-1, 32, 32, 32]           9,216\n",
            "              ReLU-6           [-1, 32, 32, 32]               0\n",
            "       BatchNorm2d-7           [-1, 32, 32, 32]              64\n",
            "           Dropout-8           [-1, 32, 32, 32]               0\n",
            "         MaxPool2d-9           [-1, 32, 16, 16]               0\n",
            "           Conv2d-10           [-1, 64, 16, 16]          18,432\n",
            "             ReLU-11           [-1, 64, 16, 16]               0\n",
            "      BatchNorm2d-12           [-1, 64, 16, 16]             128\n",
            "          Dropout-13           [-1, 64, 16, 16]               0\n",
            "           Conv2d-14           [-1, 64, 16, 16]          36,864\n",
            "             ReLU-15           [-1, 64, 16, 16]               0\n",
            "      BatchNorm2d-16           [-1, 64, 16, 16]             128\n",
            "          Dropout-17           [-1, 64, 16, 16]               0\n",
            "           Conv2d-18           [-1, 64, 16, 16]          36,864\n",
            "             ReLU-19           [-1, 64, 16, 16]               0\n",
            "      BatchNorm2d-20           [-1, 64, 16, 16]             128\n",
            "          Dropout-21           [-1, 64, 16, 16]               0\n",
            "        MaxPool2d-22             [-1, 64, 8, 8]               0\n",
            "           Conv2d-23            [-1, 128, 8, 8]          73,728\n",
            "             ReLU-24            [-1, 128, 8, 8]               0\n",
            "      BatchNorm2d-25            [-1, 128, 8, 8]             256\n",
            "          Dropout-26            [-1, 128, 8, 8]               0\n",
            "           Conv2d-27            [-1, 128, 8, 8]         147,456\n",
            "             ReLU-28            [-1, 128, 8, 8]               0\n",
            "      BatchNorm2d-29            [-1, 128, 8, 8]             256\n",
            "          Dropout-30            [-1, 128, 8, 8]               0\n",
            "           Conv2d-31            [-1, 128, 8, 8]         147,456\n",
            "             ReLU-32            [-1, 128, 8, 8]               0\n",
            "      BatchNorm2d-33            [-1, 128, 8, 8]             256\n",
            "          Dropout-34            [-1, 128, 8, 8]               0\n",
            "        AvgPool2d-35            [-1, 128, 1, 1]               0\n",
            "           Conv2d-36             [-1, 10, 1, 1]           1,280\n",
            "================================================================\n",
            "Total params: 473,440\n",
            "Trainable params: 473,440\n",
            "Non-trainable params: 0\n",
            "----------------------------------------------------------------\n",
            "Input size (MB): 0.01\n",
            "Forward/backward pass size (MB): 4.34\n",
            "Params size (MB): 1.81\n",
            "Estimated Total Size (MB): 6.16\n",
            "----------------------------------------------------------------\n"
          ],
          "name": "stdout"
        }
      ]
    },
    {
      "cell_type": "code",
      "metadata": {
        "id": "pstPHMCK9MBs",
        "outputId": "ccac9c6c-fcc4-4dda-9188-4ea33c7adfe2",
        "colab": {
          "base_uri": "https://localhost:8080/",
          "height": 1000
        }
      },
      "source": [
        "model = Quiz_net().to(device)\n",
        "loss_fn = utils.others.cross_entropy_loss_fn()\n",
        "optimizer = utils.others.sgd_optimizer(model)\n",
        "scheduler = utils.others.StepLR_scheduler(optimizer, step_size=6)\n",
        "if utils.config.DEBUG == True:\n",
        "    utils.config.EPOCHS = 15\n",
        "\n",
        "test_loss = []\n",
        "test_accuracy = []\n",
        "train_losses = []\n",
        "train_accuracy = []\n",
        "misclassified_imgs = []\n",
        "for epoch in range(utils.config.EPOCHS):\n",
        "    print(f\"Running Epoch {epoch+1}/{utils.config.EPOCHS}\\n\")\n",
        "    train(model, train_dl, optimizer, loss_fn, device, train_losses, train_accuracy)\n",
        "    scheduler.step()\n",
        "    test(model, test_dl, loss_fn, device, 25, test_loss, test_accuracy, misclassified_imgs)"
      ],
      "execution_count": 14,
      "outputs": [
        {
          "output_type": "stream",
          "text": [
            "\r  0%|          | 0/1563 [00:00<?, ?it/s]"
          ],
          "name": "stderr"
        },
        {
          "output_type": "stream",
          "text": [
            "Running Epoch 1/15\n",
            "\n"
          ],
          "name": "stdout"
        },
        {
          "output_type": "stream",
          "text": [
            "Loss=0.77 Batch_ID=1562 Accuracy=52.30: 100%|██████████| 1563/1563 [00:48<00:00, 32.39it/s]\n",
            "  0%|          | 0/1563 [00:00<?, ?it/s]"
          ],
          "name": "stderr"
        },
        {
          "output_type": "stream",
          "text": [
            "\n",
            "Validation set: Average loss: 0.0321, Accuracy: 6362/10000 (63.62%)\n",
            "\n",
            "Running Epoch 2/15\n",
            "\n"
          ],
          "name": "stdout"
        },
        {
          "output_type": "stream",
          "text": [
            "Loss=0.78 Batch_ID=1562 Accuracy=67.60: 100%|██████████| 1563/1563 [00:47<00:00, 32.97it/s]\n",
            "  0%|          | 0/1563 [00:00<?, ?it/s]"
          ],
          "name": "stderr"
        },
        {
          "output_type": "stream",
          "text": [
            "\n",
            "Validation set: Average loss: 0.0237, Accuracy: 7318/10000 (73.18%)\n",
            "\n",
            "Running Epoch 3/15\n",
            "\n"
          ],
          "name": "stdout"
        },
        {
          "output_type": "stream",
          "text": [
            "Loss=1.31 Batch_ID=1562 Accuracy=73.40: 100%|██████████| 1563/1563 [00:47<00:00, 33.10it/s]\n",
            "  0%|          | 0/1563 [00:00<?, ?it/s]"
          ],
          "name": "stderr"
        },
        {
          "output_type": "stream",
          "text": [
            "\n",
            "Validation set: Average loss: 0.0199, Accuracy: 7811/10000 (78.11%)\n",
            "\n",
            "Running Epoch 4/15\n",
            "\n"
          ],
          "name": "stdout"
        },
        {
          "output_type": "stream",
          "text": [
            "Loss=0.59 Batch_ID=1562 Accuracy=76.94: 100%|██████████| 1563/1563 [00:46<00:00, 33.67it/s]\n",
            "  0%|          | 0/1563 [00:00<?, ?it/s]"
          ],
          "name": "stderr"
        },
        {
          "output_type": "stream",
          "text": [
            "\n",
            "Validation set: Average loss: 0.0191, Accuracy: 7889/10000 (78.89%)\n",
            "\n",
            "Running Epoch 5/15\n",
            "\n"
          ],
          "name": "stdout"
        },
        {
          "output_type": "stream",
          "text": [
            "Loss=0.47 Batch_ID=1562 Accuracy=79.27: 100%|██████████| 1563/1563 [00:46<00:00, 33.86it/s]\n",
            "  0%|          | 0/1563 [00:00<?, ?it/s]"
          ],
          "name": "stderr"
        },
        {
          "output_type": "stream",
          "text": [
            "\n",
            "Validation set: Average loss: 0.0169, Accuracy: 8136/10000 (81.36%)\n",
            "\n",
            "Running Epoch 6/15\n",
            "\n"
          ],
          "name": "stdout"
        },
        {
          "output_type": "stream",
          "text": [
            "Loss=0.61 Batch_ID=1562 Accuracy=80.93: 100%|██████████| 1563/1563 [00:47<00:00, 33.16it/s]\n",
            "  0%|          | 0/1563 [00:00<?, ?it/s]"
          ],
          "name": "stderr"
        },
        {
          "output_type": "stream",
          "text": [
            "\n",
            "Validation set: Average loss: 0.0156, Accuracy: 8283/10000 (82.83%)\n",
            "\n",
            "Running Epoch 7/15\n",
            "\n"
          ],
          "name": "stdout"
        },
        {
          "output_type": "stream",
          "text": [
            "Loss=0.68 Batch_ID=1562 Accuracy=84.79: 100%|██████████| 1563/1563 [00:46<00:00, 33.70it/s]\n",
            "  0%|          | 0/1563 [00:00<?, ?it/s]"
          ],
          "name": "stderr"
        },
        {
          "output_type": "stream",
          "text": [
            "\n",
            "Validation set: Average loss: 0.0134, Accuracy: 8526/10000 (85.26%)\n",
            "\n",
            "Running Epoch 8/15\n",
            "\n"
          ],
          "name": "stdout"
        },
        {
          "output_type": "stream",
          "text": [
            "Loss=0.41 Batch_ID=1562 Accuracy=85.79: 100%|██████████| 1563/1563 [00:46<00:00, 33.79it/s]\n",
            "  0%|          | 0/1563 [00:00<?, ?it/s]"
          ],
          "name": "stderr"
        },
        {
          "output_type": "stream",
          "text": [
            "\n",
            "Validation set: Average loss: 0.0133, Accuracy: 8542/10000 (85.42%)\n",
            "\n",
            "Running Epoch 9/15\n",
            "\n"
          ],
          "name": "stdout"
        },
        {
          "output_type": "stream",
          "text": [
            "Loss=0.36 Batch_ID=1562 Accuracy=86.06: 100%|██████████| 1563/1563 [00:46<00:00, 33.83it/s]\n",
            "  0%|          | 0/1563 [00:00<?, ?it/s]"
          ],
          "name": "stderr"
        },
        {
          "output_type": "stream",
          "text": [
            "\n",
            "Validation set: Average loss: 0.0130, Accuracy: 8567/10000 (85.67%)\n",
            "\n",
            "Running Epoch 10/15\n",
            "\n"
          ],
          "name": "stdout"
        },
        {
          "output_type": "stream",
          "text": [
            "Loss=0.35 Batch_ID=1562 Accuracy=86.45: 100%|██████████| 1563/1563 [00:46<00:00, 33.89it/s]\n",
            "  0%|          | 0/1563 [00:00<?, ?it/s]"
          ],
          "name": "stderr"
        },
        {
          "output_type": "stream",
          "text": [
            "\n",
            "Validation set: Average loss: 0.0129, Accuracy: 8571/10000 (85.71%)\n",
            "\n",
            "Running Epoch 11/15\n",
            "\n"
          ],
          "name": "stdout"
        },
        {
          "output_type": "stream",
          "text": [
            "Loss=0.77 Batch_ID=1562 Accuracy=86.94: 100%|██████████| 1563/1563 [00:46<00:00, 33.61it/s]\n",
            "  0%|          | 0/1563 [00:00<?, ?it/s]"
          ],
          "name": "stderr"
        },
        {
          "output_type": "stream",
          "text": [
            "\n",
            "Validation set: Average loss: 0.0128, Accuracy: 8597/10000 (85.97%)\n",
            "\n",
            "Running Epoch 12/15\n",
            "\n"
          ],
          "name": "stdout"
        },
        {
          "output_type": "stream",
          "text": [
            "Loss=0.35 Batch_ID=1562 Accuracy=87.07: 100%|██████████| 1563/1563 [00:46<00:00, 33.97it/s]\n",
            "  0%|          | 0/1563 [00:00<?, ?it/s]"
          ],
          "name": "stderr"
        },
        {
          "output_type": "stream",
          "text": [
            "\n",
            "Validation set: Average loss: 0.0126, Accuracy: 8627/10000 (86.27%)\n",
            "\n",
            "Running Epoch 13/15\n",
            "\n"
          ],
          "name": "stdout"
        },
        {
          "output_type": "stream",
          "text": [
            "Loss=0.09 Batch_ID=1562 Accuracy=87.51: 100%|██████████| 1563/1563 [00:46<00:00, 33.82it/s]\n",
            "  0%|          | 0/1563 [00:00<?, ?it/s]"
          ],
          "name": "stderr"
        },
        {
          "output_type": "stream",
          "text": [
            "\n",
            "Validation set: Average loss: 0.0124, Accuracy: 8651/10000 (86.51%)\n",
            "\n",
            "Running Epoch 14/15\n",
            "\n"
          ],
          "name": "stdout"
        },
        {
          "output_type": "stream",
          "text": [
            "Loss=0.50 Batch_ID=1562 Accuracy=87.54: 100%|██████████| 1563/1563 [00:46<00:00, 33.55it/s]\n",
            "  0%|          | 0/1563 [00:00<?, ?it/s]"
          ],
          "name": "stderr"
        },
        {
          "output_type": "stream",
          "text": [
            "\n",
            "Validation set: Average loss: 0.0125, Accuracy: 8629/10000 (86.29%)\n",
            "\n",
            "Running Epoch 15/15\n",
            "\n"
          ],
          "name": "stdout"
        },
        {
          "output_type": "stream",
          "text": [
            "Loss=0.28 Batch_ID=1562 Accuracy=87.75: 100%|██████████| 1563/1563 [00:46<00:00, 33.54it/s]\n"
          ],
          "name": "stderr"
        },
        {
          "output_type": "stream",
          "text": [
            "\n",
            "Validation set: Average loss: 0.0125, Accuracy: 8642/10000 (86.42%)\n",
            "\n"
          ],
          "name": "stdout"
        }
      ]
    },
    {
      "cell_type": "code",
      "metadata": {
        "id": "_dP8Ek-a-kjv"
      },
      "source": [
        ""
      ],
      "execution_count": 14,
      "outputs": []
    }
  ]
}