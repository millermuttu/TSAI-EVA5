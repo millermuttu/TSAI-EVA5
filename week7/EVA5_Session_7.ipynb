{
  "nbformat": 4,
  "nbformat_minor": 0,
  "metadata": {
    "colab": {
      "name": "EVA5_Session_7.ipynb",
      "provenance": [],
      "collapsed_sections": [],
      "toc_visible": true
    },
    "kernelspec": {
      "name": "python3",
      "display_name": "Python 3"
    },
    "accelerator": "GPU",
    "widgets": {
      "application/vnd.jupyter.widget-state+json": {
        "f9dbdaac1055452d8562a426ff9feec6": {
          "model_module": "@jupyter-widgets/controls",
          "model_name": "HBoxModel",
          "state": {
            "_view_name": "HBoxView",
            "_dom_classes": [],
            "_model_name": "HBoxModel",
            "_view_module": "@jupyter-widgets/controls",
            "_model_module_version": "1.5.0",
            "_view_count": null,
            "_view_module_version": "1.5.0",
            "box_style": "",
            "layout": "IPY_MODEL_713bcc3f4b77457e9e9913d2b719f102",
            "_model_module": "@jupyter-widgets/controls",
            "children": [
              "IPY_MODEL_70b24422699d40e484429164d38691e4",
              "IPY_MODEL_c442fbd850ee4476baef5144691281ec"
            ]
          }
        },
        "713bcc3f4b77457e9e9913d2b719f102": {
          "model_module": "@jupyter-widgets/base",
          "model_name": "LayoutModel",
          "state": {
            "_view_name": "LayoutView",
            "grid_template_rows": null,
            "right": null,
            "justify_content": null,
            "_view_module": "@jupyter-widgets/base",
            "overflow": null,
            "_model_module_version": "1.2.0",
            "_view_count": null,
            "flex_flow": null,
            "width": null,
            "min_width": null,
            "border": null,
            "align_items": null,
            "bottom": null,
            "_model_module": "@jupyter-widgets/base",
            "top": null,
            "grid_column": null,
            "overflow_y": null,
            "overflow_x": null,
            "grid_auto_flow": null,
            "grid_area": null,
            "grid_template_columns": null,
            "flex": null,
            "_model_name": "LayoutModel",
            "justify_items": null,
            "grid_row": null,
            "max_height": null,
            "align_content": null,
            "visibility": null,
            "align_self": null,
            "height": null,
            "min_height": null,
            "padding": null,
            "grid_auto_rows": null,
            "grid_gap": null,
            "max_width": null,
            "order": null,
            "_view_module_version": "1.2.0",
            "grid_template_areas": null,
            "object_position": null,
            "object_fit": null,
            "grid_auto_columns": null,
            "margin": null,
            "display": null,
            "left": null
          }
        },
        "70b24422699d40e484429164d38691e4": {
          "model_module": "@jupyter-widgets/controls",
          "model_name": "FloatProgressModel",
          "state": {
            "_view_name": "ProgressView",
            "style": "IPY_MODEL_485608f937784a16a7a5bce2b823045e",
            "_dom_classes": [],
            "description": "",
            "_model_name": "FloatProgressModel",
            "bar_style": "info",
            "max": 1,
            "_view_module": "@jupyter-widgets/controls",
            "_model_module_version": "1.5.0",
            "value": 1,
            "_view_count": null,
            "_view_module_version": "1.5.0",
            "orientation": "horizontal",
            "min": 0,
            "description_tooltip": null,
            "_model_module": "@jupyter-widgets/controls",
            "layout": "IPY_MODEL_e49615238ee34402af724beca11c6354"
          }
        },
        "c442fbd850ee4476baef5144691281ec": {
          "model_module": "@jupyter-widgets/controls",
          "model_name": "HTMLModel",
          "state": {
            "_view_name": "HTMLView",
            "style": "IPY_MODEL_0422575efa284ce583b98fbeee93a2d7",
            "_dom_classes": [],
            "description": "",
            "_model_name": "HTMLModel",
            "placeholder": "​",
            "_view_module": "@jupyter-widgets/controls",
            "_model_module_version": "1.5.0",
            "value": " 170500096/? [00:20&lt;00:00, 33372437.36it/s]",
            "_view_count": null,
            "_view_module_version": "1.5.0",
            "description_tooltip": null,
            "_model_module": "@jupyter-widgets/controls",
            "layout": "IPY_MODEL_10b86986555649e0be60e60f4e455bda"
          }
        },
        "485608f937784a16a7a5bce2b823045e": {
          "model_module": "@jupyter-widgets/controls",
          "model_name": "ProgressStyleModel",
          "state": {
            "_view_name": "StyleView",
            "_model_name": "ProgressStyleModel",
            "description_width": "initial",
            "_view_module": "@jupyter-widgets/base",
            "_model_module_version": "1.5.0",
            "_view_count": null,
            "_view_module_version": "1.2.0",
            "bar_color": null,
            "_model_module": "@jupyter-widgets/controls"
          }
        },
        "e49615238ee34402af724beca11c6354": {
          "model_module": "@jupyter-widgets/base",
          "model_name": "LayoutModel",
          "state": {
            "_view_name": "LayoutView",
            "grid_template_rows": null,
            "right": null,
            "justify_content": null,
            "_view_module": "@jupyter-widgets/base",
            "overflow": null,
            "_model_module_version": "1.2.0",
            "_view_count": null,
            "flex_flow": null,
            "width": null,
            "min_width": null,
            "border": null,
            "align_items": null,
            "bottom": null,
            "_model_module": "@jupyter-widgets/base",
            "top": null,
            "grid_column": null,
            "overflow_y": null,
            "overflow_x": null,
            "grid_auto_flow": null,
            "grid_area": null,
            "grid_template_columns": null,
            "flex": null,
            "_model_name": "LayoutModel",
            "justify_items": null,
            "grid_row": null,
            "max_height": null,
            "align_content": null,
            "visibility": null,
            "align_self": null,
            "height": null,
            "min_height": null,
            "padding": null,
            "grid_auto_rows": null,
            "grid_gap": null,
            "max_width": null,
            "order": null,
            "_view_module_version": "1.2.0",
            "grid_template_areas": null,
            "object_position": null,
            "object_fit": null,
            "grid_auto_columns": null,
            "margin": null,
            "display": null,
            "left": null
          }
        },
        "0422575efa284ce583b98fbeee93a2d7": {
          "model_module": "@jupyter-widgets/controls",
          "model_name": "DescriptionStyleModel",
          "state": {
            "_view_name": "StyleView",
            "_model_name": "DescriptionStyleModel",
            "description_width": "",
            "_view_module": "@jupyter-widgets/base",
            "_model_module_version": "1.5.0",
            "_view_count": null,
            "_view_module_version": "1.2.0",
            "_model_module": "@jupyter-widgets/controls"
          }
        },
        "10b86986555649e0be60e60f4e455bda": {
          "model_module": "@jupyter-widgets/base",
          "model_name": "LayoutModel",
          "state": {
            "_view_name": "LayoutView",
            "grid_template_rows": null,
            "right": null,
            "justify_content": null,
            "_view_module": "@jupyter-widgets/base",
            "overflow": null,
            "_model_module_version": "1.2.0",
            "_view_count": null,
            "flex_flow": null,
            "width": null,
            "min_width": null,
            "border": null,
            "align_items": null,
            "bottom": null,
            "_model_module": "@jupyter-widgets/base",
            "top": null,
            "grid_column": null,
            "overflow_y": null,
            "overflow_x": null,
            "grid_auto_flow": null,
            "grid_area": null,
            "grid_template_columns": null,
            "flex": null,
            "_model_name": "LayoutModel",
            "justify_items": null,
            "grid_row": null,
            "max_height": null,
            "align_content": null,
            "visibility": null,
            "align_self": null,
            "height": null,
            "min_height": null,
            "padding": null,
            "grid_auto_rows": null,
            "grid_gap": null,
            "max_width": null,
            "order": null,
            "_view_module_version": "1.2.0",
            "grid_template_areas": null,
            "object_position": null,
            "object_fit": null,
            "grid_auto_columns": null,
            "margin": null,
            "display": null,
            "left": null
          }
        }
      }
    }
  },
  "cells": [
    {
      "cell_type": "code",
      "metadata": {
        "id": "jamEvXgb1e_1",
        "colab_type": "code",
        "colab": {
          "base_uri": "https://localhost:8080/",
          "height": 118
        },
        "outputId": "ab38fae4-a134-4b5d-d75a-c0955eb716eb"
      },
      "source": [
        "!git clone https://github.com/millermuttu/TSAI-EVA5.git"
      ],
      "execution_count": 1,
      "outputs": [
        {
          "output_type": "stream",
          "text": [
            "Cloning into 'TSAI-EVA5'...\n",
            "remote: Enumerating objects: 85, done.\u001b[K\n",
            "remote: Counting objects: 100% (85/85), done.\u001b[K\n",
            "remote: Compressing objects: 100% (69/69), done.\u001b[K\n",
            "remote: Total 85 (delta 22), reused 42 (delta 8), pack-reused 0\u001b[K\n",
            "Unpacking objects: 100% (85/85), done.\n"
          ],
          "name": "stdout"
        }
      ]
    },
    {
      "cell_type": "code",
      "metadata": {
        "id": "_U7pz5iF2v_D",
        "colab_type": "code",
        "colab": {
          "base_uri": "https://localhost:8080/",
          "height": 34
        },
        "outputId": "63448a23-8dd4-44e3-ae62-912459fc83da"
      },
      "source": [
        "cd /content/TSAI-EVA5/week7"
      ],
      "execution_count": 2,
      "outputs": [
        {
          "output_type": "stream",
          "text": [
            "/content/TSAI-EVA5/week7\n"
          ],
          "name": "stdout"
        }
      ]
    },
    {
      "cell_type": "code",
      "metadata": {
        "id": "L3OzHveN21S3",
        "colab_type": "code",
        "colab": {
          "base_uri": "https://localhost:8080/",
          "height": 34
        },
        "outputId": "e84cd5d4-022c-4f9d-c3c7-c680961ae9f6"
      },
      "source": [
        "!ls"
      ],
      "execution_count": 3,
      "outputs": [
        {
          "output_type": "stream",
          "text": [
            "models\ttrain_test.py  utils\n"
          ],
          "name": "stdout"
        }
      ]
    },
    {
      "cell_type": "code",
      "metadata": {
        "id": "us6KJUm6220X",
        "colab_type": "code",
        "colab": {}
      },
      "source": [
        "# Importing torch packages for Neural Network building\n",
        "import torch\n",
        "import torch.nn as nn\n",
        "import torch.nn.functional as F\n",
        "import torchvision\n",
        "import torch.optim as optim\n",
        "from torchvision import datasets, transforms\n",
        "from torch.optim.lr_scheduler import StepLR\n",
        "from tqdm import tqdm\n",
        "from torchsummary import summary\n",
        "import pandas as pd\n",
        "%matplotlib inline\n",
        "import matplotlib.pyplot as plt\n",
        "from models.networks import Net\n",
        "from utils.img_reg import *\n",
        "from train_test import *\n"
      ],
      "execution_count": 4,
      "outputs": []
    },
    {
      "cell_type": "code",
      "metadata": {
        "id": "LujCIIEh3sCt",
        "colab_type": "code",
        "colab": {
          "base_uri": "https://localhost:8080/",
          "height": 99,
          "referenced_widgets": [
            "f9dbdaac1055452d8562a426ff9feec6",
            "713bcc3f4b77457e9e9913d2b719f102",
            "70b24422699d40e484429164d38691e4",
            "c442fbd850ee4476baef5144691281ec",
            "485608f937784a16a7a5bce2b823045e",
            "e49615238ee34402af724beca11c6354",
            "0422575efa284ce583b98fbeee93a2d7",
            "10b86986555649e0be60e60f4e455bda"
          ]
        },
        "outputId": "d3b3f419-0d5f-4e44-cb9b-8d96a0a69ded"
      },
      "source": [
        "transform = transforms.Compose(\n",
        "    [transforms.ToTensor(),\n",
        "     transforms.Normalize((0.49139968, 0.48215841, 0.44653091), (0.24703223, 0.24348513, 0.26158784))\n",
        "     ])\n",
        "\n",
        "trainset = torchvision.datasets.CIFAR10(root='./data', train=True,\n",
        "                                        download=True, transform=transform)\n",
        "trainloader = torch.utils.data.DataLoader(trainset, batch_size=128,\n",
        "                                          shuffle=True, num_workers=2)\n",
        "\n",
        "testset = torchvision.datasets.CIFAR10(root='./data', train=False,\n",
        "                                       download=True, transform=transform)\n",
        "testloader = torch.utils.data.DataLoader(testset, batch_size=128,\n",
        "                                         shuffle=False, num_workers=2)\n",
        "\n",
        "classes = ('plane', 'car', 'bird', 'cat',\n",
        "           'deer', 'dog', 'frog', 'horse', 'ship', 'truck')"
      ],
      "execution_count": 5,
      "outputs": [
        {
          "output_type": "stream",
          "text": [
            "Downloading https://www.cs.toronto.edu/~kriz/cifar-10-python.tar.gz to ./data/cifar-10-python.tar.gz\n"
          ],
          "name": "stdout"
        },
        {
          "output_type": "display_data",
          "data": {
            "application/vnd.jupyter.widget-view+json": {
              "model_id": "f9dbdaac1055452d8562a426ff9feec6",
              "version_minor": 0,
              "version_major": 2
            },
            "text/plain": [
              "HBox(children=(FloatProgress(value=1.0, bar_style='info', max=1.0), HTML(value='')))"
            ]
          },
          "metadata": {
            "tags": []
          }
        },
        {
          "output_type": "stream",
          "text": [
            "Extracting ./data/cifar-10-python.tar.gz to ./data\n",
            "Files already downloaded and verified\n"
          ],
          "name": "stdout"
        }
      ]
    },
    {
      "cell_type": "code",
      "metadata": {
        "id": "O-LqW71q4a5h",
        "colab_type": "code",
        "colab": {
          "base_uri": "https://localhost:8080/",
          "height": 50
        },
        "outputId": "998a4985-f1f8-4edb-affe-63aacd9b4d58"
      },
      "source": [
        "mean,std = image_normalization_3(trainset)\n",
        "mean,std"
      ],
      "execution_count": 6,
      "outputs": [
        {
          "output_type": "execute_result",
          "data": {
            "text/plain": [
              "(array([0.49139968, 0.48215841, 0.44653091]),\n",
              " array([0.24703223, 0.24348513, 0.26158784]))"
            ]
          },
          "metadata": {
            "tags": []
          },
          "execution_count": 6
        }
      ]
    },
    {
      "cell_type": "code",
      "metadata": {
        "id": "0nRSDMp14iLd",
        "colab_type": "code",
        "colab": {
          "base_uri": "https://localhost:8080/",
          "height": 302
        },
        "outputId": "afadb8a7-d1be-4256-d607-771326092bf7"
      },
      "source": [
        "import matplotlib.pyplot as plt\n",
        "import numpy as np\n",
        "\n",
        "# functions to show an image\n",
        "\n",
        "\n",
        "def imshow(img):\n",
        "    img = img / 2 + 0.49139968     # unnormalize\n",
        "    npimg = img.numpy()\n",
        "    plt.imshow(np.transpose(npimg, (1, 2, 0)))\n",
        "\n",
        "\n",
        "# get some random training images\n",
        "dataiter = iter(trainloader)\n",
        "images, labels = dataiter.next()\n",
        "\n",
        "# show images\n",
        "imshow(torchvision.utils.make_grid(images))\n",
        "# print labels\n",
        "print(' '.join('%5s' % classes[labels[j]] for j in range(4)))"
      ],
      "execution_count": 7,
      "outputs": [
        {
          "output_type": "stream",
          "text": [
            "Clipping input data to the valid range for imshow with RGB data ([0..1] for floats or [0..255] for integers).\n"
          ],
          "name": "stderr"
        },
        {
          "output_type": "stream",
          "text": [
            "  cat  frog  frog  ship\n"
          ],
          "name": "stdout"
        },
        {
          "output_type": "display_data",
          "data": {
            "image/png": "[encoded data removed]",
            "text/plain": [
              "<Figure size 432x288 with 1 Axes>"
            ]
          },
          "metadata": {
            "tags": [],
            "needs_background": "light"
          }
        }
      ]
    },
    {
      "cell_type": "code",
      "metadata": {
        "id": "uJBrn6Xy4lJd",
        "colab_type": "code",
        "colab": {
          "base_uri": "https://localhost:8080/",
          "height": 1000
        },
        "outputId": "b2143b8e-0fc5-455e-b82e-9cca5b15fde5"
      },
      "source": [
        "use_cuda = torch.cuda.is_available()\n",
        "device = torch.device(\"cuda\" if use_cuda else \"cpu\")\n",
        "model = Net(batch_normalization_type=\"BN\").to(device)\n",
        "summary(model, input_size=(3, 32, 32))"
      ],
      "execution_count": 8,
      "outputs": [
        {
          "output_type": "stream",
          "text": [
            "----------------------------------------------------------------\n",
            "        Layer (type)               Output Shape         Param #\n",
            "================================================================\n",
            "            Conv2d-1           [-1, 16, 32, 32]             432\n",
            "              ReLU-2           [-1, 16, 32, 32]               0\n",
            "       BatchNorm2d-3           [-1, 16, 32, 32]              32\n",
            "           Dropout-4           [-1, 16, 32, 32]               0\n",
            "            Conv2d-5           [-1, 32, 34, 34]           4,608\n",
            "              ReLU-6           [-1, 32, 34, 34]               0\n",
            "       BatchNorm2d-7           [-1, 32, 34, 34]              64\n",
            "           Dropout-8           [-1, 32, 34, 34]               0\n",
            "            Conv2d-9           [-1, 32, 36, 36]           9,216\n",
            "             ReLU-10           [-1, 32, 36, 36]               0\n",
            "      BatchNorm2d-11           [-1, 32, 36, 36]              64\n",
            "          Dropout-12           [-1, 32, 36, 36]               0\n",
            "        MaxPool2d-13           [-1, 32, 18, 18]               0\n",
            "           Conv2d-14           [-1, 32, 20, 20]             288\n",
            "             ReLU-15           [-1, 32, 20, 20]               0\n",
            "      BatchNorm2d-16           [-1, 32, 20, 20]              64\n",
            "          Dropout-17           [-1, 32, 20, 20]               0\n",
            "           Conv2d-18           [-1, 64, 22, 22]           2,048\n",
            "             ReLU-19           [-1, 64, 22, 22]               0\n",
            "      BatchNorm2d-20           [-1, 64, 22, 22]             128\n",
            "          Dropout-21           [-1, 64, 22, 22]               0\n",
            "           Conv2d-22           [-1, 64, 24, 24]             576\n",
            "             ReLU-23           [-1, 64, 24, 24]               0\n",
            "      BatchNorm2d-24           [-1, 64, 24, 24]             128\n",
            "          Dropout-25           [-1, 64, 24, 24]               0\n",
            "           Conv2d-26          [-1, 128, 26, 26]           8,192\n",
            "             ReLU-27          [-1, 128, 26, 26]               0\n",
            "      BatchNorm2d-28          [-1, 128, 26, 26]             256\n",
            "          Dropout-29          [-1, 128, 26, 26]               0\n",
            "        MaxPool2d-30          [-1, 128, 13, 13]               0\n",
            "           Conv2d-31          [-1, 200, 13, 13]         230,400\n",
            "             ReLU-32          [-1, 200, 13, 13]               0\n",
            "      BatchNorm2d-33          [-1, 200, 13, 13]             400\n",
            "          Dropout-34          [-1, 200, 13, 13]               0\n",
            "           Conv2d-35          [-1, 200, 13, 13]         360,000\n",
            "             ReLU-36          [-1, 200, 13, 13]               0\n",
            "      BatchNorm2d-37          [-1, 200, 13, 13]             400\n",
            "          Dropout-38          [-1, 200, 13, 13]               0\n",
            "           Conv2d-39          [-1, 128, 15, 15]          25,600\n",
            "             ReLU-40          [-1, 128, 15, 15]               0\n",
            "      BatchNorm2d-41          [-1, 128, 15, 15]             256\n",
            "          Dropout-42          [-1, 128, 15, 15]               0\n",
            "           Conv2d-43          [-1, 128, 15, 15]         147,456\n",
            "             ReLU-44          [-1, 128, 15, 15]               0\n",
            "      BatchNorm2d-45          [-1, 128, 15, 15]             256\n",
            "          Dropout-46          [-1, 128, 15, 15]               0\n",
            "           Conv2d-47           [-1, 64, 15, 15]           8,192\n",
            "             ReLU-48           [-1, 64, 15, 15]               0\n",
            "      BatchNorm2d-49           [-1, 64, 15, 15]             128\n",
            "          Dropout-50           [-1, 64, 15, 15]               0\n",
            "        MaxPool2d-51             [-1, 64, 7, 7]               0\n",
            "           Conv2d-52             [-1, 64, 7, 7]          36,864\n",
            "             ReLU-53             [-1, 64, 7, 7]               0\n",
            "      BatchNorm2d-54             [-1, 64, 7, 7]             128\n",
            "        AvgPool2d-55             [-1, 64, 1, 1]               0\n",
            "           Conv2d-56             [-1, 32, 1, 1]           2,048\n",
            "           Conv2d-57             [-1, 10, 1, 1]             320\n",
            "================================================================\n",
            "Total params: 838,544\n",
            "Trainable params: 838,544\n",
            "Non-trainable params: 0\n",
            "----------------------------------------------------------------\n",
            "Input size (MB): 0.01\n",
            "Forward/backward pass size (MB): 12.60\n",
            "Params size (MB): 3.20\n",
            "Estimated Total Size (MB): 15.81\n",
            "----------------------------------------------------------------\n"
          ],
          "name": "stdout"
        }
      ]
    },
    {
      "cell_type": "code",
      "metadata": {
        "id": "Oi--Kc1R4qZV",
        "colab_type": "code",
        "colab": {}
      },
      "source": [
        "def run_models(model, device, epochs, reg, lambda1 = 0.0002, lambda2 = 0.0001):\n",
        "  train_losses = []\n",
        "  test_losses = []\n",
        "  train_acc = []\n",
        "  test_acc = []\n",
        "  misclassified_images = []\n",
        "  model = model.to(device)\n",
        "  optimizer = optim.SGD(model.parameters(), lr=0.003, momentum=0.9)\n",
        "  scheduler = StepLR(optimizer, step_size=20, gamma=0.1)\n",
        "\n",
        "  for epoch in range(epochs):\n",
        "      print(\"EPOCH:\", epoch+1)\n",
        "      train(model, device, trainloader, optimizer, epoch, reg, lambda1, lambda2, train_losses, train_acc)\n",
        "      scheduler.step()\n",
        "      if epoch !=50:\n",
        "        test(model, device, testloader, test_losses, test_acc, misclassified_images)\n",
        "      else:\n",
        "        test(model, device, testloader, test_losses, test_acc, misclassified_images, misclassified=True)\n",
        "  \n",
        "  return test_losses, test_acc, misclassified_images"
      ],
      "execution_count": 9,
      "outputs": []
    },
    {
      "cell_type": "code",
      "metadata": {
        "id": "Xc6RaFt24u7H",
        "colab_type": "code",
        "colab": {
          "base_uri": "https://localhost:8080/",
          "height": 1000
        },
        "outputId": "81f12c9d-32b8-4b2d-f08e-0e3313c7ffaf"
      },
      "source": [
        "#Ghost Batch Norm\n",
        "gbn_loss, gbn_acc, gbn_misclassified = run_models(Net(), device, 35, \"None\")"
      ],
      "execution_count": 10,
      "outputs": [
        {
          "output_type": "stream",
          "text": [
            "\r  0%|          | 0/391 [00:00<?, ?it/s]"
          ],
          "name": "stderr"
        },
        {
          "output_type": "stream",
          "text": [
            "EPOCH: 1\n"
          ],
          "name": "stdout"
        },
        {
          "output_type": "stream",
          "text": [
            "Loss=1.465 Batch_id=390 Accuracy=38.65: 100%|██████████| 391/391 [00:21<00:00, 18.14it/s]\n",
            "  0%|          | 0/391 [00:00<?, ?it/s]"
          ],
          "name": "stderr"
        },
        {
          "output_type": "stream",
          "text": [
            "\n",
            "Test set: Average loss: 1.5513, Accuracy: 4333/10000 (43.33%)\n",
            "\n",
            "EPOCH: 2\n"
          ],
          "name": "stdout"
        },
        {
          "output_type": "stream",
          "text": [
            "Loss=0.925 Batch_id=390 Accuracy=52.82: 100%|██████████| 391/391 [00:21<00:00, 18.26it/s]\n",
            "  0%|          | 0/391 [00:00<?, ?it/s]"
          ],
          "name": "stderr"
        },
        {
          "output_type": "stream",
          "text": [
            "\n",
            "Test set: Average loss: 1.2247, Accuracy: 5616/10000 (56.16%)\n",
            "\n",
            "EPOCH: 3\n"
          ],
          "name": "stdout"
        },
        {
          "output_type": "stream",
          "text": [
            "Loss=1.080 Batch_id=390 Accuracy=60.51: 100%|██████████| 391/391 [00:21<00:00, 18.45it/s]\n",
            "  0%|          | 0/391 [00:00<?, ?it/s]"
          ],
          "name": "stderr"
        },
        {
          "output_type": "stream",
          "text": [
            "\n",
            "Test set: Average loss: 1.1707, Accuracy: 5694/10000 (56.94%)\n",
            "\n",
            "EPOCH: 4\n"
          ],
          "name": "stdout"
        },
        {
          "output_type": "stream",
          "text": [
            "Loss=1.053 Batch_id=390 Accuracy=65.00: 100%|██████████| 391/391 [00:21<00:00, 18.44it/s]\n",
            "  0%|          | 0/391 [00:00<?, ?it/s]"
          ],
          "name": "stderr"
        },
        {
          "output_type": "stream",
          "text": [
            "\n",
            "Test set: Average loss: 1.0372, Accuracy: 6214/10000 (62.14%)\n",
            "\n",
            "EPOCH: 5\n"
          ],
          "name": "stdout"
        },
        {
          "output_type": "stream",
          "text": [
            "Loss=0.923 Batch_id=390 Accuracy=68.39: 100%|██████████| 391/391 [00:21<00:00, 18.43it/s]\n",
            "  0%|          | 0/391 [00:00<?, ?it/s]"
          ],
          "name": "stderr"
        },
        {
          "output_type": "stream",
          "text": [
            "\n",
            "Test set: Average loss: 1.0460, Accuracy: 6235/10000 (62.35%)\n",
            "\n",
            "EPOCH: 6\n"
          ],
          "name": "stdout"
        },
        {
          "output_type": "stream",
          "text": [
            "Loss=0.835 Batch_id=390 Accuracy=71.79: 100%|██████████| 391/391 [00:21<00:00, 18.39it/s]\n",
            "  0%|          | 0/391 [00:00<?, ?it/s]"
          ],
          "name": "stderr"
        },
        {
          "output_type": "stream",
          "text": [
            "\n",
            "Test set: Average loss: 0.9124, Accuracy: 6734/10000 (67.34%)\n",
            "\n",
            "EPOCH: 7\n"
          ],
          "name": "stdout"
        },
        {
          "output_type": "stream",
          "text": [
            "Loss=0.620 Batch_id=390 Accuracy=73.89: 100%|██████████| 391/391 [00:21<00:00, 18.48it/s]\n",
            "  0%|          | 0/391 [00:00<?, ?it/s]"
          ],
          "name": "stderr"
        },
        {
          "output_type": "stream",
          "text": [
            "\n",
            "Test set: Average loss: 0.7984, Accuracy: 7154/10000 (71.54%)\n",
            "\n",
            "EPOCH: 8\n"
          ],
          "name": "stdout"
        },
        {
          "output_type": "stream",
          "text": [
            "Loss=0.805 Batch_id=390 Accuracy=75.99: 100%|██████████| 391/391 [00:21<00:00, 18.50it/s]\n",
            "  0%|          | 0/391 [00:00<?, ?it/s]"
          ],
          "name": "stderr"
        },
        {
          "output_type": "stream",
          "text": [
            "\n",
            "Test set: Average loss: 0.7633, Accuracy: 7280/10000 (72.80%)\n",
            "\n",
            "EPOCH: 9\n"
          ],
          "name": "stdout"
        },
        {
          "output_type": "stream",
          "text": [
            "Loss=0.585 Batch_id=390 Accuracy=77.67: 100%|██████████| 391/391 [00:21<00:00, 18.39it/s]\n",
            "  0%|          | 0/391 [00:00<?, ?it/s]"
          ],
          "name": "stderr"
        },
        {
          "output_type": "stream",
          "text": [
            "\n",
            "Test set: Average loss: 0.7854, Accuracy: 7249/10000 (72.49%)\n",
            "\n",
            "EPOCH: 10\n"
          ],
          "name": "stdout"
        },
        {
          "output_type": "stream",
          "text": [
            "Loss=0.616 Batch_id=390 Accuracy=79.39: 100%|██████████| 391/391 [00:21<00:00, 18.54it/s]\n",
            "  0%|          | 0/391 [00:00<?, ?it/s]"
          ],
          "name": "stderr"
        },
        {
          "output_type": "stream",
          "text": [
            "\n",
            "Test set: Average loss: 0.7492, Accuracy: 7366/10000 (73.66%)\n",
            "\n",
            "EPOCH: 11\n"
          ],
          "name": "stdout"
        },
        {
          "output_type": "stream",
          "text": [
            "Loss=0.526 Batch_id=390 Accuracy=80.47: 100%|██████████| 391/391 [00:21<00:00, 18.53it/s]\n",
            "  0%|          | 0/391 [00:00<?, ?it/s]"
          ],
          "name": "stderr"
        },
        {
          "output_type": "stream",
          "text": [
            "\n",
            "Test set: Average loss: 0.7707, Accuracy: 7317/10000 (73.17%)\n",
            "\n",
            "EPOCH: 12\n"
          ],
          "name": "stdout"
        },
        {
          "output_type": "stream",
          "text": [
            "Loss=0.613 Batch_id=390 Accuracy=81.87: 100%|██████████| 391/391 [00:21<00:00, 18.30it/s]\n",
            "  0%|          | 0/391 [00:00<?, ?it/s]"
          ],
          "name": "stderr"
        },
        {
          "output_type": "stream",
          "text": [
            "\n",
            "Test set: Average loss: 0.6842, Accuracy: 7671/10000 (76.71%)\n",
            "\n",
            "EPOCH: 13\n"
          ],
          "name": "stdout"
        },
        {
          "output_type": "stream",
          "text": [
            "Loss=0.483 Batch_id=390 Accuracy=83.22: 100%|██████████| 391/391 [00:21<00:00, 18.58it/s]\n",
            "  0%|          | 0/391 [00:00<?, ?it/s]"
          ],
          "name": "stderr"
        },
        {
          "output_type": "stream",
          "text": [
            "\n",
            "Test set: Average loss: 0.6848, Accuracy: 7639/10000 (76.39%)\n",
            "\n",
            "EPOCH: 14\n"
          ],
          "name": "stdout"
        },
        {
          "output_type": "stream",
          "text": [
            "Loss=0.441 Batch_id=390 Accuracy=84.10: 100%|██████████| 391/391 [00:21<00:00, 18.28it/s]\n",
            "  0%|          | 0/391 [00:00<?, ?it/s]"
          ],
          "name": "stderr"
        },
        {
          "output_type": "stream",
          "text": [
            "\n",
            "Test set: Average loss: 0.6961, Accuracy: 7652/10000 (76.52%)\n",
            "\n",
            "EPOCH: 15\n"
          ],
          "name": "stdout"
        },
        {
          "output_type": "stream",
          "text": [
            "Loss=0.433 Batch_id=390 Accuracy=85.02: 100%|██████████| 391/391 [00:21<00:00, 18.22it/s]\n",
            "  0%|          | 0/391 [00:00<?, ?it/s]"
          ],
          "name": "stderr"
        },
        {
          "output_type": "stream",
          "text": [
            "\n",
            "Test set: Average loss: 0.7217, Accuracy: 7631/10000 (76.31%)\n",
            "\n",
            "EPOCH: 16\n"
          ],
          "name": "stdout"
        },
        {
          "output_type": "stream",
          "text": [
            "Loss=0.411 Batch_id=390 Accuracy=85.86: 100%|██████████| 391/391 [00:21<00:00, 18.37it/s]\n",
            "  0%|          | 0/391 [00:00<?, ?it/s]"
          ],
          "name": "stderr"
        },
        {
          "output_type": "stream",
          "text": [
            "\n",
            "Test set: Average loss: 0.6611, Accuracy: 7839/10000 (78.39%)\n",
            "\n",
            "EPOCH: 17\n"
          ],
          "name": "stdout"
        },
        {
          "output_type": "stream",
          "text": [
            "Loss=0.419 Batch_id=390 Accuracy=86.65: 100%|██████████| 391/391 [00:21<00:00, 18.23it/s]\n",
            "  0%|          | 0/391 [00:00<?, ?it/s]"
          ],
          "name": "stderr"
        },
        {
          "output_type": "stream",
          "text": [
            "\n",
            "Test set: Average loss: 0.6412, Accuracy: 7887/10000 (78.87%)\n",
            "\n",
            "EPOCH: 18\n"
          ],
          "name": "stdout"
        },
        {
          "output_type": "stream",
          "text": [
            "Loss=0.358 Batch_id=390 Accuracy=87.33: 100%|██████████| 391/391 [00:21<00:00, 18.42it/s]\n",
            "  0%|          | 0/391 [00:00<?, ?it/s]"
          ],
          "name": "stderr"
        },
        {
          "output_type": "stream",
          "text": [
            "\n",
            "Test set: Average loss: 0.6937, Accuracy: 7743/10000 (77.43%)\n",
            "\n",
            "EPOCH: 19\n"
          ],
          "name": "stdout"
        },
        {
          "output_type": "stream",
          "text": [
            "Loss=0.357 Batch_id=390 Accuracy=88.05: 100%|██████████| 391/391 [00:21<00:00, 18.43it/s]\n",
            "  0%|          | 0/391 [00:00<?, ?it/s]"
          ],
          "name": "stderr"
        },
        {
          "output_type": "stream",
          "text": [
            "\n",
            "Test set: Average loss: 0.6994, Accuracy: 7748/10000 (77.48%)\n",
            "\n",
            "EPOCH: 20\n"
          ],
          "name": "stdout"
        },
        {
          "output_type": "stream",
          "text": [
            "Loss=0.300 Batch_id=390 Accuracy=88.65: 100%|██████████| 391/391 [00:21<00:00, 18.48it/s]\n",
            "  0%|          | 0/391 [00:00<?, ?it/s]"
          ],
          "name": "stderr"
        },
        {
          "output_type": "stream",
          "text": [
            "\n",
            "Test set: Average loss: 0.7256, Accuracy: 7756/10000 (77.56%)\n",
            "\n",
            "EPOCH: 21\n"
          ],
          "name": "stdout"
        },
        {
          "output_type": "stream",
          "text": [
            "Loss=0.274 Batch_id=390 Accuracy=92.28: 100%|██████████| 391/391 [00:21<00:00, 18.29it/s]\n",
            "  0%|          | 0/391 [00:00<?, ?it/s]"
          ],
          "name": "stderr"
        },
        {
          "output_type": "stream",
          "text": [
            "\n",
            "Test set: Average loss: 0.6277, Accuracy: 8025/10000 (80.25%)\n",
            "\n",
            "EPOCH: 22\n"
          ],
          "name": "stdout"
        },
        {
          "output_type": "stream",
          "text": [
            "Loss=0.207 Batch_id=390 Accuracy=93.18: 100%|██████████| 391/391 [00:21<00:00, 18.58it/s]\n",
            "  0%|          | 0/391 [00:00<?, ?it/s]"
          ],
          "name": "stderr"
        },
        {
          "output_type": "stream",
          "text": [
            "\n",
            "Test set: Average loss: 0.6429, Accuracy: 8004/10000 (80.04%)\n",
            "\n",
            "EPOCH: 23\n"
          ],
          "name": "stdout"
        },
        {
          "output_type": "stream",
          "text": [
            "Loss=0.310 Batch_id=390 Accuracy=93.58: 100%|██████████| 391/391 [00:21<00:00, 18.53it/s]\n",
            "  0%|          | 0/391 [00:00<?, ?it/s]"
          ],
          "name": "stderr"
        },
        {
          "output_type": "stream",
          "text": [
            "\n",
            "Test set: Average loss: 0.6331, Accuracy: 8073/10000 (80.73%)\n",
            "\n",
            "EPOCH: 24\n"
          ],
          "name": "stdout"
        },
        {
          "output_type": "stream",
          "text": [
            "Loss=0.384 Batch_id=390 Accuracy=93.99: 100%|██████████| 391/391 [00:21<00:00, 18.46it/s]\n",
            "  0%|          | 0/391 [00:00<?, ?it/s]"
          ],
          "name": "stderr"
        },
        {
          "output_type": "stream",
          "text": [
            "\n",
            "Test set: Average loss: 0.6396, Accuracy: 8072/10000 (80.72%)\n",
            "\n",
            "EPOCH: 25\n"
          ],
          "name": "stdout"
        },
        {
          "output_type": "stream",
          "text": [
            "Loss=0.153 Batch_id=390 Accuracy=94.04: 100%|██████████| 391/391 [00:21<00:00, 18.42it/s]\n",
            "  0%|          | 0/391 [00:00<?, ?it/s]"
          ],
          "name": "stderr"
        },
        {
          "output_type": "stream",
          "text": [
            "\n",
            "Test set: Average loss: 0.6568, Accuracy: 8022/10000 (80.22%)\n",
            "\n",
            "EPOCH: 26\n"
          ],
          "name": "stdout"
        },
        {
          "output_type": "stream",
          "text": [
            "Loss=0.192 Batch_id=390 Accuracy=94.35: 100%|██████████| 391/391 [00:21<00:00, 18.60it/s]\n",
            "  0%|          | 0/391 [00:00<?, ?it/s]"
          ],
          "name": "stderr"
        },
        {
          "output_type": "stream",
          "text": [
            "\n",
            "Test set: Average loss: 0.6676, Accuracy: 8010/10000 (80.10%)\n",
            "\n",
            "EPOCH: 27\n"
          ],
          "name": "stdout"
        },
        {
          "output_type": "stream",
          "text": [
            "Loss=0.118 Batch_id=390 Accuracy=94.49: 100%|██████████| 391/391 [00:21<00:00, 18.50it/s]\n",
            "  0%|          | 0/391 [00:00<?, ?it/s]"
          ],
          "name": "stderr"
        },
        {
          "output_type": "stream",
          "text": [
            "\n",
            "Test set: Average loss: 0.6743, Accuracy: 8023/10000 (80.23%)\n",
            "\n",
            "EPOCH: 28\n"
          ],
          "name": "stdout"
        },
        {
          "output_type": "stream",
          "text": [
            "Loss=0.152 Batch_id=390 Accuracy=94.53: 100%|██████████| 391/391 [00:21<00:00, 18.36it/s]\n",
            "  0%|          | 0/391 [00:00<?, ?it/s]"
          ],
          "name": "stderr"
        },
        {
          "output_type": "stream",
          "text": [
            "\n",
            "Test set: Average loss: 0.6765, Accuracy: 8019/10000 (80.19%)\n",
            "\n",
            "EPOCH: 29\n"
          ],
          "name": "stdout"
        },
        {
          "output_type": "stream",
          "text": [
            "Loss=0.200 Batch_id=390 Accuracy=94.83: 100%|██████████| 391/391 [00:21<00:00, 18.38it/s]\n",
            "  0%|          | 0/391 [00:00<?, ?it/s]"
          ],
          "name": "stderr"
        },
        {
          "output_type": "stream",
          "text": [
            "\n",
            "Test set: Average loss: 0.7038, Accuracy: 7924/10000 (79.24%)\n",
            "\n",
            "EPOCH: 30\n"
          ],
          "name": "stdout"
        },
        {
          "output_type": "stream",
          "text": [
            "Loss=0.139 Batch_id=390 Accuracy=94.81: 100%|██████████| 391/391 [00:21<00:00, 18.35it/s]\n",
            "  0%|          | 0/391 [00:00<?, ?it/s]"
          ],
          "name": "stderr"
        },
        {
          "output_type": "stream",
          "text": [
            "\n",
            "Test set: Average loss: 0.6861, Accuracy: 8013/10000 (80.13%)\n",
            "\n",
            "EPOCH: 31\n"
          ],
          "name": "stdout"
        },
        {
          "output_type": "stream",
          "text": [
            "Loss=0.120 Batch_id=390 Accuracy=95.02: 100%|██████████| 391/391 [00:21<00:00, 18.37it/s]\n",
            "  0%|          | 0/391 [00:00<?, ?it/s]"
          ],
          "name": "stderr"
        },
        {
          "output_type": "stream",
          "text": [
            "\n",
            "Test set: Average loss: 0.6951, Accuracy: 7987/10000 (79.87%)\n",
            "\n",
            "EPOCH: 32\n"
          ],
          "name": "stdout"
        },
        {
          "output_type": "stream",
          "text": [
            "Loss=0.106 Batch_id=390 Accuracy=95.03: 100%|██████████| 391/391 [00:21<00:00, 18.48it/s]\n",
            "  0%|          | 0/391 [00:00<?, ?it/s]"
          ],
          "name": "stderr"
        },
        {
          "output_type": "stream",
          "text": [
            "\n",
            "Test set: Average loss: 0.6992, Accuracy: 7981/10000 (79.81%)\n",
            "\n",
            "EPOCH: 33\n"
          ],
          "name": "stdout"
        },
        {
          "output_type": "stream",
          "text": [
            "Loss=0.201 Batch_id=390 Accuracy=95.27: 100%|██████████| 391/391 [00:21<00:00, 18.36it/s]\n",
            "  0%|          | 0/391 [00:00<?, ?it/s]"
          ],
          "name": "stderr"
        },
        {
          "output_type": "stream",
          "text": [
            "\n",
            "Test set: Average loss: 0.7049, Accuracy: 7981/10000 (79.81%)\n",
            "\n",
            "EPOCH: 34\n"
          ],
          "name": "stdout"
        },
        {
          "output_type": "stream",
          "text": [
            "Loss=0.135 Batch_id=390 Accuracy=95.38: 100%|██████████| 391/391 [00:21<00:00, 18.48it/s]\n",
            "  0%|          | 0/391 [00:00<?, ?it/s]"
          ],
          "name": "stderr"
        },
        {
          "output_type": "stream",
          "text": [
            "\n",
            "Test set: Average loss: 0.7070, Accuracy: 8001/10000 (80.01%)\n",
            "\n",
            "EPOCH: 35\n"
          ],
          "name": "stdout"
        },
        {
          "output_type": "stream",
          "text": [
            "Loss=0.163 Batch_id=390 Accuracy=95.49: 100%|██████████| 391/391 [00:21<00:00, 18.54it/s]\n"
          ],
          "name": "stderr"
        },
        {
          "output_type": "stream",
          "text": [
            "\n",
            "Test set: Average loss: 0.7066, Accuracy: 7988/10000 (79.88%)\n",
            "\n"
          ],
          "name": "stdout"
        }
      ]
    },
    {
      "cell_type": "code",
      "metadata": {
        "id": "9bWNFkNG4xmp",
        "colab_type": "code",
        "colab": {}
      },
      "source": [
        ""
      ],
      "execution_count": 10,
      "outputs": []
    }
  ]
}