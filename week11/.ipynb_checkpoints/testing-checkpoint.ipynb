{
 "cells": [
  {
   "cell_type": "code",
   "execution_count": 1,
   "metadata": {
    "id": "ply70-ST26FA"
   },
   "outputs": [],
   "source": [
    "import torch\n",
    "import dataset\n",
    "import models\n",
    "import utils\n",
    "import visual\n",
    "import gradcam\n",
    "import numpy as np\n",
    "from torchvision import transforms\n",
    "from train_test import train, test\n",
    "import albumentations as A\n",
    "from albumentations.pytorch import ToTensorV2"
   ]
  },
  {
   "cell_type": "code",
   "execution_count": 2,
   "metadata": {
    "colab": {
     "base_uri": "https://localhost:8080/",
     "height": 34
    },
    "id": "Y1va1IR8_5LV",
    "outputId": "6f818451-0e4e-4680-b1ad-5bc2aba4b505"
   },
   "outputs": [
    {
     "name": "stdout",
     "output_type": "stream",
     "text": [
      "GPU Available? True\n"
     ]
    }
   ],
   "source": [
    "cuda, device = utils.misc.initialize_device(utils.config.SEED)"
   ]
  },
  {
   "cell_type": "code",
   "execution_count": null,
   "metadata": {},
   "outputs": [],
   "source": [
    "utils.config.BATCH_SIZE = 64"
   ]
  },
  {
   "cell_type": "code",
   "execution_count": null,
   "metadata": {
    "colab": {
     "base_uri": "https://localhost:8080/",
     "height": 99,
     "referenced_widgets": [
      "55db64384cbf436e8da62328591eadc9",
      "7c090b373875469d8bf8a94498f803f5",
      "bbdede3425e2476a888f96559c2ad9df",
      "f138c720c696434782376ce86b746b0f",
      "a3676046bd364d0a92491b10091dde4d",
      "8b4f336c6c5f401f9ee9cc671b86d5d0",
      "765d5a195c3149719351a238ea1254d7",
      "b3f8b21b41034c70a1478b8a4e40b93f"
     ]
    },
    "id": "nkSfzcPcWL-z",
    "outputId": "3fc92dc1-15f6-41f5-c379-d15ee28fc1c3"
   },
   "outputs": [],
   "source": [
    "trainset = dataset.pytorch_datasets(True, True, dataset_name='cifar10')\n",
    "testset = dataset.pytorch_datasets(False, True, dataset_name='cifar10')"
   ]
  },
  {
   "cell_type": "code",
   "execution_count": null,
   "metadata": {
    "colab": {
     "base_uri": "https://localhost:8080/",
     "height": 602
    },
    "id": "WnB_a9-qWZdG",
    "outputId": "33061a24-7ffb-4f1b-e41d-64cbf03a8954"
   },
   "outputs": [],
   "source": [
    "visual.visualization.show_imgs(trainset, 16, (8, 8))"
   ]
  },
  {
   "cell_type": "code",
   "execution_count": null,
   "metadata": {
    "colab": {
     "base_uri": "https://localhost:8080/",
     "height": 34
    },
    "id": "DZH5v4WrWIJ0",
    "outputId": "c264ef85-a980-4a45-b65f-927490b89d85"
   },
   "outputs": [],
   "source": [
    "mean, std = dataset.img_reg.get_stats(trainset)[0], dataset.img_reg.get_stats(trainset)[1]\n",
    "print(mean, std)"
   ]
  },
  {
   "cell_type": "code",
   "execution_count": null,
   "metadata": {
    "id": "b7yFNWloUAoD"
   },
   "outputs": [],
   "source": [
    "transformations_list = [A.Normalize(mean, std)]\n",
    "augmentations_list = [A.HorizontalFlip(), \n",
    "                      A.Rotate(limit=5),\n",
    "                      A.Cutout(1, 16, 16, fill_value=mean, p=0.3),\n",
    "                     ]"
   ]
  },
  {
   "cell_type": "code",
   "execution_count": null,
   "metadata": {
    "colab": {
     "base_uri": "https://localhost:8080/",
     "height": 50
    },
    "id": "c29jj1rYU75o",
    "outputId": "5450b379-e270-455e-8501-81a7999eac88"
   },
   "outputs": [],
   "source": [
    "trainset = dataset.pytorch_datasets(True, True, transformations_list, augmentations_list, dataset_name='cifar10')\n",
    "testset = dataset.pytorch_datasets(False, True, transformations_list, dataset_name='cifar10')\n",
    "train_dl = dataset.data_loader(trainset, utils.config.BATCH_SIZE, utils.config.NUM_WORKERS, cuda, shuffle=True)\n",
    "test_dl = dataset.data_loader(testset, utils.config.BATCH_SIZE, utils.config.NUM_WORKERS, cuda, shuffle=True)"
   ]
  },
  {
   "cell_type": "code",
   "execution_count": null,
   "metadata": {
    "colab": {
     "base_uri": "https://localhost:8080/",
     "height": 1000
    },
    "id": "xWt6cEMEtSL5",
    "outputId": "842986a6-3e99-4923-e7cd-0eb7e669781e"
   },
   "outputs": [],
   "source": [
    "visual.visualization.show_batch(train_dl)"
   ]
  },
  {
   "cell_type": "code",
   "execution_count": null,
   "metadata": {
    "id": "bqLXwIuotVj1"
   },
   "outputs": [],
   "source": [
    "#Define model\n",
    "model = models.A11().to(device)"
   ]
  },
  {
   "cell_type": "code",
   "execution_count": null,
   "metadata": {
    "colab": {
     "base_uri": "https://localhost:8080/",
     "height": 1000
    },
    "id": "N6NzCVu5tZ43",
    "outputId": "0c7392ce-9c1e-494a-cba8-ea25af794041"
   },
   "outputs": [],
   "source": [
    "utils.misc.summary(model, (3, 32, 32))"
   ]
  },
  {
   "cell_type": "code",
   "execution_count": null,
   "metadata": {
    "colab": {
     "base_uri": "https://localhost:8080/",
     "height": 34
    },
    "id": "zO9o-u_cwExY",
    "outputId": "9fbf42fd-7d75-4acb-8b03-c51e937965af"
   },
   "outputs": [],
   "source": [
    "utils.config.EPOCHS"
   ]
  },
  {
   "cell_type": "code",
   "execution_count": null,
   "metadata": {},
   "outputs": [],
   "source": [
    "model = models.ResNet18().to(device)\n",
    "loss_fn = utils.misc.cross_entropy_loss_fn()\n",
    "optimizer = utils.misc.sgd_optimizer(model,lr=0.0001)"
   ]
  },
  {
   "cell_type": "code",
   "execution_count": null,
   "metadata": {},
   "outputs": [],
   "source": [
    "lr_finder = utils.lr_finder.LRFinder(model, optimizer, loss_fn, device=device)\n",
    "lr_finder.range_test(train_dl, end_lr=100, num_iter=100)"
   ]
  },
  {
   "cell_type": "code",
   "execution_count": null,
   "metadata": {},
   "outputs": [],
   "source": [
    "lr_finder.plot()"
   ]
  },
  {
   "cell_type": "code",
   "execution_count": null,
   "metadata": {},
   "outputs": [],
   "source": [
    "lr_finder.reset()"
   ]
  },
  {
   "cell_type": "code",
   "execution_count": null,
   "metadata": {},
   "outputs": [],
   "source": [
    "utils.config.EPOCHS =1"
   ]
  },
  {
   "cell_type": "code",
   "execution_count": null,
   "metadata": {
    "colab": {
     "base_uri": "https://localhost:8080/",
     "height": 1000
    },
    "id": "sGBbGEONzqGM",
    "outputId": "e3ed4078-9970-4e6e-eeca-d4354cc7a0cb"
   },
   "outputs": [],
   "source": [
    "model = models.ResNet18().to(device)\n",
    "loss_fn = utils.misc.cross_entropy_loss_fn()\n",
    "optimizer = utils.misc.sgd_optimizer(model,lr=1)\n",
    "scheduler = utils.misc.ReduseLR_onplateau(optimizer, patience=2)\n",
    "if utils.config.DEBUG == True:\n",
    "    utils.config.EPOCHS = 15\n",
    "\n",
    "test_loss = []\n",
    "test_accuracy = []\n",
    "train_losses = []\n",
    "train_accuracy = []\n",
    "misclassified_imgs = []\n",
    "for epoch in range(utils.config.EPOCHS):\n",
    "    print(f\"Running Epoch {epoch+1}/{utils.config.EPOCHS}\\n\")\n",
    "    train(model, train_dl, optimizer, loss_fn, device, train_losses, train_accuracy)\n",
    "    tl = test(model, test_dl, loss_fn, device, 25, test_loss, test_accuracy, misclassified_imgs)\n",
    "    scheduler.step(tl)"
   ]
  },
  {
   "cell_type": "code",
   "execution_count": null,
   "metadata": {
    "colab": {
     "base_uri": "https://localhost:8080/",
     "height": 1000
    },
    "id": "zLh109fAzy2L",
    "outputId": "73b355f4-a6b2-4bec-fea3-f1609501895f"
   },
   "outputs": [],
   "source": [
    "grad_cam = gradcam.GradCAMView(model, ['layer3', 'layer4'],device, mean, std)\n",
    "class_idx = trainset.class_to_idx\n",
    "dataiter = iter(test_dl)\n",
    "images, labels = dataiter.next()\n",
    "image_list = images[:25]\n",
    "grad_cam(image_list,class_idx, plot_size=(8,8))"
   ]
  },
  {
   "cell_type": "code",
   "execution_count": null,
   "metadata": {
    "id": "gX3QWS-HUYJ1"
   },
   "outputs": [],
   "source": [
    "images.size()"
   ]
  },
  {
   "cell_type": "code",
   "execution_count": null,
   "metadata": {},
   "outputs": [],
   "source": []
  }
 ],
 "metadata": {
  "accelerator": "GPU",
  "colab": {
   "collapsed_sections": [],
   "name": "EVA5_session_9.ipynb",
   "provenance": []
  },
  "kernelspec": {
   "display_name": "Python 3",
   "language": "python",
   "name": "python3"
  },
  "language_info": {
   "codemirror_mode": {
    "name": "ipython",
    "version": 3
   },
   "file_extension": ".py",
   "mimetype": "text/x-python",
   "name": "python",
   "nbconvert_exporter": "python",
   "pygments_lexer": "ipython3",
   "version": "3.6.10"
  },
  "widgets": {
   "application/vnd.jupyter.widget-state+json": {
    "55db64384cbf436e8da62328591eadc9": {
     "model_module": "@jupyter-widgets/controls",
     "model_name": "HBoxModel",
     "state": {
      "_dom_classes": [],
      "_model_module": "@jupyter-widgets/controls",
      "_model_module_version": "1.5.0",
      "_model_name": "HBoxModel",
      "_view_count": null,
      "_view_module": "@jupyter-widgets/controls",
      "_view_module_version": "1.5.0",
      "_view_name": "HBoxView",
      "box_style": "",
      "children": [
       "IPY_MODEL_bbdede3425e2476a888f96559c2ad9df",
       "IPY_MODEL_f138c720c696434782376ce86b746b0f"
      ],
      "layout": "IPY_MODEL_7c090b373875469d8bf8a94498f803f5"
     }
    },
    "765d5a195c3149719351a238ea1254d7": {
     "model_module": "@jupyter-widgets/controls",
     "model_name": "DescriptionStyleModel",
     "state": {
      "_model_module": "@jupyter-widgets/controls",
      "_model_module_version": "1.5.0",
      "_model_name": "DescriptionStyleModel",
      "_view_count": null,
      "_view_module": "@jupyter-widgets/base",
      "_view_module_version": "1.2.0",
      "_view_name": "StyleView",
      "description_width": ""
     }
    },
    "7c090b373875469d8bf8a94498f803f5": {
     "model_module": "@jupyter-widgets/base",
     "model_name": "LayoutModel",
     "state": {
      "_model_module": "@jupyter-widgets/base",
      "_model_module_version": "1.2.0",
      "_model_name": "LayoutModel",
      "_view_count": null,
      "_view_module": "@jupyter-widgets/base",
      "_view_module_version": "1.2.0",
      "_view_name": "LayoutView",
      "align_content": null,
      "align_items": null,
      "align_self": null,
      "border": null,
      "bottom": null,
      "display": null,
      "flex": null,
      "flex_flow": null,
      "grid_area": null,
      "grid_auto_columns": null,
      "grid_auto_flow": null,
      "grid_auto_rows": null,
      "grid_column": null,
      "grid_gap": null,
      "grid_row": null,
      "grid_template_areas": null,
      "grid_template_columns": null,
      "grid_template_rows": null,
      "height": null,
      "justify_content": null,
      "justify_items": null,
      "left": null,
      "margin": null,
      "max_height": null,
      "max_width": null,
      "min_height": null,
      "min_width": null,
      "object_fit": null,
      "object_position": null,
      "order": null,
      "overflow": null,
      "overflow_x": null,
      "overflow_y": null,
      "padding": null,
      "right": null,
      "top": null,
      "visibility": null,
      "width": null
     }
    },
    "8b4f336c6c5f401f9ee9cc671b86d5d0": {
     "model_module": "@jupyter-widgets/base",
     "model_name": "LayoutModel",
     "state": {
      "_model_module": "@jupyter-widgets/base",
      "_model_module_version": "1.2.0",
      "_model_name": "LayoutModel",
      "_view_count": null,
      "_view_module": "@jupyter-widgets/base",
      "_view_module_version": "1.2.0",
      "_view_name": "LayoutView",
      "align_content": null,
      "align_items": null,
      "align_self": null,
      "border": null,
      "bottom": null,
      "display": null,
      "flex": null,
      "flex_flow": null,
      "grid_area": null,
      "grid_auto_columns": null,
      "grid_auto_flow": null,
      "grid_auto_rows": null,
      "grid_column": null,
      "grid_gap": null,
      "grid_row": null,
      "grid_template_areas": null,
      "grid_template_columns": null,
      "grid_template_rows": null,
      "height": null,
      "justify_content": null,
      "justify_items": null,
      "left": null,
      "margin": null,
      "max_height": null,
      "max_width": null,
      "min_height": null,
      "min_width": null,
      "object_fit": null,
      "object_position": null,
      "order": null,
      "overflow": null,
      "overflow_x": null,
      "overflow_y": null,
      "padding": null,
      "right": null,
      "top": null,
      "visibility": null,
      "width": null
     }
    },
    "a3676046bd364d0a92491b10091dde4d": {
     "model_module": "@jupyter-widgets/controls",
     "model_name": "ProgressStyleModel",
     "state": {
      "_model_module": "@jupyter-widgets/controls",
      "_model_module_version": "1.5.0",
      "_model_name": "ProgressStyleModel",
      "_view_count": null,
      "_view_module": "@jupyter-widgets/base",
      "_view_module_version": "1.2.0",
      "_view_name": "StyleView",
      "bar_color": null,
      "description_width": "initial"
     }
    },
    "b3f8b21b41034c70a1478b8a4e40b93f": {
     "model_module": "@jupyter-widgets/base",
     "model_name": "LayoutModel",
     "state": {
      "_model_module": "@jupyter-widgets/base",
      "_model_module_version": "1.2.0",
      "_model_name": "LayoutModel",
      "_view_count": null,
      "_view_module": "@jupyter-widgets/base",
      "_view_module_version": "1.2.0",
      "_view_name": "LayoutView",
      "align_content": null,
      "align_items": null,
      "align_self": null,
      "border": null,
      "bottom": null,
      "display": null,
      "flex": null,
      "flex_flow": null,
      "grid_area": null,
      "grid_auto_columns": null,
      "grid_auto_flow": null,
      "grid_auto_rows": null,
      "grid_column": null,
      "grid_gap": null,
      "grid_row": null,
      "grid_template_areas": null,
      "grid_template_columns": null,
      "grid_template_rows": null,
      "height": null,
      "justify_content": null,
      "justify_items": null,
      "left": null,
      "margin": null,
      "max_height": null,
      "max_width": null,
      "min_height": null,
      "min_width": null,
      "object_fit": null,
      "object_position": null,
      "order": null,
      "overflow": null,
      "overflow_x": null,
      "overflow_y": null,
      "padding": null,
      "right": null,
      "top": null,
      "visibility": null,
      "width": null
     }
    },
    "bbdede3425e2476a888f96559c2ad9df": {
     "model_module": "@jupyter-widgets/controls",
     "model_name": "FloatProgressModel",
     "state": {
      "_dom_classes": [],
      "_model_module": "@jupyter-widgets/controls",
      "_model_module_version": "1.5.0",
      "_model_name": "FloatProgressModel",
      "_view_count": null,
      "_view_module": "@jupyter-widgets/controls",
      "_view_module_version": "1.5.0",
      "_view_name": "ProgressView",
      "bar_style": "success",
      "description": "",
      "description_tooltip": null,
      "layout": "IPY_MODEL_8b4f336c6c5f401f9ee9cc671b86d5d0",
      "max": 1,
      "min": 0,
      "orientation": "horizontal",
      "style": "IPY_MODEL_a3676046bd364d0a92491b10091dde4d",
      "value": 1
     }
    },
    "f138c720c696434782376ce86b746b0f": {
     "model_module": "@jupyter-widgets/controls",
     "model_name": "HTMLModel",
     "state": {
      "_dom_classes": [],
      "_model_module": "@jupyter-widgets/controls",
      "_model_module_version": "1.5.0",
      "_model_name": "HTMLModel",
      "_view_count": null,
      "_view_module": "@jupyter-widgets/controls",
      "_view_module_version": "1.5.0",
      "_view_name": "HTMLView",
      "description": "",
      "description_tooltip": null,
      "layout": "IPY_MODEL_b3f8b21b41034c70a1478b8a4e40b93f",
      "placeholder": "​",
      "style": "IPY_MODEL_765d5a195c3149719351a238ea1254d7",
      "value": " 170500096/? [00:08&lt;00:00, 20026258.91it/s]"
     }
    }
   }
  }
 },
 "nbformat": 4,
 "nbformat_minor": 1
}
